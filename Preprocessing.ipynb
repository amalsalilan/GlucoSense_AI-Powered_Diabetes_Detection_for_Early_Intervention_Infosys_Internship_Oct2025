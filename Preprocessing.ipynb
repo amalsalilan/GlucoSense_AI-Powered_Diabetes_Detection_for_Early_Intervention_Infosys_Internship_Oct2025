{
 "cells": [
  {
   "cell_type": "code",
   "execution_count": 86,
   "id": "5ed67966-01a6-4221-a67c-7dd56217bc1e",
   "metadata": {},
   "outputs": [],
   "source": [
    "import pandas as pd\n",
    "import numpy as np\n",
    "from sklearn.preprocessing import StandardScaler, MinMaxScaler\n",
    "from imblearn.over_sampling import SMOTE\n",
    "from sklearn.model_selection import train_test_split\n",
    "from sklearn.ensemble import RandomForestClassifier\n",
    "import seaborn as sns\n"
   ]
  },
  {
   "cell_type": "code",
   "execution_count": 98,
   "id": "fea57e7b-9c4e-467b-bbe4-e622a8dd3ced",
   "metadata": {},
   "outputs": [],
   "source": [
    "from sklearn.impute import KNNImputer"
   ]
  },
  {
   "cell_type": "code",
   "execution_count": 88,
   "id": "b6a621cf-fd13-4b19-ac1f-941beb3ddd82",
   "metadata": {},
   "outputs": [],
   "source": [
    "df = pd.read_csv(r'C:\\Users\\kusha\\OneDrive\\Desktop\\diabetes_prediction_dataset.csv')\n"
   ]
  },
  {
   "cell_type": "code",
   "execution_count": 90,
   "id": "9e0be9ad-8e0f-44d4-890f-00e26e326d21",
   "metadata": {},
   "outputs": [],
   "source": [
    "df.replace({\"???\": None, \"Unknown\": None}, inplace=True)\n",
    "df['HbA1c_level'] = df.groupby('diabetes')['HbA1c_level'].transform(lambda x: x.fillna(x.median()))\n"
   ]
  },
  {
   "cell_type": "code",
   "execution_count": 100,
   "id": "a1bafad6-05cb-4ecd-9197-1de6382fd992",
   "metadata": {},
   "outputs": [],
   "source": [
    "knn_imputer = KNNImputer(n_neighbors=5)\n",
    "df[['bmi', 'blood_glucose_level', 'HbA1c_level']] = knn_imputer.fit_transform(df[['bmi', 'blood_glucose_level', 'HbA1c_level']])\n",
    "\n"
   ]
  },
  {
   "cell_type": "code",
   "execution_count": 94,
   "id": "25f3b623-0cad-4a24-8111-2ab0b363d8f9",
   "metadata": {},
   "outputs": [],
   "source": [
    "ordinal_mapping = {\n",
    "    'Physical Activity Level': {'Low': 0, 'Moderate': 1, 'High': 2}\n",
    "}\n",
    "for col, mapping in ordinal_mapping.items():\n",
    "    if col in df.columns:\n",
    "        df[col] = df[col].map(mapping)\n",
    "\n"
   ]
  },
  {
   "cell_type": "code",
   "execution_count": 55,
   "id": "c7642ee0-c4b8-4b80-95d8-81234219117d",
   "metadata": {},
   "outputs": [],
   "source": [
    "df = pd.get_dummies(df, columns=['smoking_history', 'gender'], drop_first=True)\n"
   ]
  },
  {
   "cell_type": "code",
   "execution_count": 57,
   "id": "f0d94561-7d9e-4913-b33b-7a41dd5046c0",
   "metadata": {},
   "outputs": [],
   "source": [
    "scaler = StandardScaler()\n",
    "df[['blood_glucose_level', 'HbA1c_level']] = scaler.fit_transform(df[['blood_glucose_level', 'HbA1c_level']])\n"
   ]
  },
  {
   "cell_type": "code",
   "execution_count": 59,
   "id": "afc76d64-7454-430b-a140-9a9830435859",
   "metadata": {},
   "outputs": [],
   "source": [
    "minmax_scaler = MinMaxScaler()\n",
    "df[['bmi', 'age']] = minmax_scaler.fit_transform(df[['bmi', 'age']])\n"
   ]
  },
  {
   "cell_type": "code",
   "execution_count": 61,
   "id": "41525417-44ed-4bdd-8c69-29908a00cbd6",
   "metadata": {},
   "outputs": [],
   "source": [
    "Q1 = df[['bmi', 'blood_glucose_level']].quantile(0.25)\n",
    "Q3 = df[['bmi', 'blood_glucose_level']].quantile(0.75)\n",
    "IQR = Q3 - Q1\n",
    "df = df[~((df[['bmi', 'blood_glucose_level']] < (Q1 - 1.5 * IQR)) | (df[['bmi', 'blood_glucose_level']] > (Q3 + 1.5 * IQR))).any(axis=1)]\n"
   ]
  },
  {
   "cell_type": "code",
   "execution_count": 63,
   "id": "6db5dfbd-91bc-4773-8ced-074122f3d835",
   "metadata": {},
   "outputs": [],
   "source": [
    "X = df.drop(columns=['diabetes'])\n",
    "y = df['diabetes']\n",
    "X_train, X_test, y_train, y_test = train_test_split(X, y, test_size=0.2, random_state=42, stratify=y)"
   ]
  },
  {
   "cell_type": "code",
   "execution_count": 67,
   "id": "24b7c69c-1e62-4647-bdc4-7f63660ca3c9",
   "metadata": {},
   "outputs": [],
   "source": [
    "corr_matrix = X_train.corr().abs()\n",
    "upper_tri = corr_matrix.where(np.triu(np.ones(corr_matrix.shape), k=1).astype(bool))\n",
    "to_drop = [column for column in upper_tri.columns if any(upper_tri[column] > 0.75)]\n"
   ]
  },
  {
   "cell_type": "code",
   "execution_count": 69,
   "id": "a6ddff54-8939-4bd7-9b54-dd6271c86464",
   "metadata": {},
   "outputs": [
    {
     "name": "stdout",
     "output_type": "stream",
     "text": [
      "Dropped highly correlated features: []\n"
     ]
    }
   ],
   "source": [
    "X_train.drop(columns=to_drop, inplace=True)\n",
    "X_test.drop(columns=to_drop, inplace=True)\n",
    "print(f\"Dropped highly correlated features: {to_drop}\")\n"
   ]
  },
  {
   "cell_type": "code",
   "execution_count": 71,
   "id": "71e5142c-fb54-4454-83d4-0abff5a5e0ce",
   "metadata": {},
   "outputs": [],
   "source": [
    "rf = RandomForestClassifier(random_state=42)\n",
    "rf.fit(X_train, y_train)\n",
    "feature_importances = pd.Series(rf.feature_importances_, index=X_train.columns).sort_values(ascending=False)\n",
    "selected_features = feature_importances[feature_importances > 0.01].index.tolist()\n"
   ]
  },
  {
   "cell_type": "code",
   "execution_count": 72,
   "id": "a42f649f-a5f1-4ee0-9680-b5578ed33aab",
   "metadata": {},
   "outputs": [],
   "source": [
    "X_train = X_train[selected_features]\n",
    "X_test = X_test[selected_features]\n"
   ]
  },
  {
   "cell_type": "code",
   "execution_count": 73,
   "id": "d961a200-2fb1-420d-bb7b-9b00a192db7f",
   "metadata": {},
   "outputs": [
    {
     "name": "stdout",
     "output_type": "stream",
     "text": [
      "Selected Features: ['HbA1c_level', 'blood_glucose_level', 'bmi', 'age', 'hypertension', 'heart_disease']\n"
     ]
    }
   ],
   "source": [
    "print(f\"Selected Features: {selected_features}\")\n"
   ]
  },
  {
   "cell_type": "code",
   "execution_count": 74,
   "id": "201cd0af-b6c0-4403-8576-86dd58527b70",
   "metadata": {},
   "outputs": [],
   "source": [
    "smote = SMOTE(random_state=42)\n",
    "X_train_resampled, y_train_resampled = smote.fit_resample(X_train, y_train)\n",
    "\n"
   ]
  },
  {
   "cell_type": "code",
   "execution_count": 75,
   "id": "2d880e77-0f4d-4a20-b70f-023c3142828d",
   "metadata": {},
   "outputs": [
    {
     "name": "stdout",
     "output_type": "stream",
     "text": [
      "Final Train Shape: (137426, 6), Test Shape: (18248, 6)\n"
     ]
    }
   ],
   "source": [
    "print(f\"Final Train Shape: {X_train_resampled.shape}, Test Shape: {X_test.shape}\")"
   ]
  },
  {
   "cell_type": "code",
   "execution_count": null,
   "id": "bf0b3d86-c8a1-491f-a309-7d3ff934b884",
   "metadata": {},
   "outputs": [],
   "source": [
    "#checking "
   ]
  },
  {
   "cell_type": "code",
   "execution_count": 102,
   "id": "8706abe1-f8bf-49ac-a47b-c0d49ed8954a",
   "metadata": {},
   "outputs": [
    {
     "name": "stdout",
     "output_type": "stream",
     "text": [
      "HbA1c_level            0\n",
      "blood_glucose_level    0\n",
      "bmi                    0\n",
      "age                    0\n",
      "hypertension           0\n",
      "heart_disease          0\n",
      "dtype: int64\n",
      "HbA1c_level            0\n",
      "blood_glucose_level    0\n",
      "bmi                    0\n",
      "age                    0\n",
      "hypertension           0\n",
      "heart_disease          0\n",
      "dtype: int64\n"
     ]
    }
   ],
   "source": [
    "print(X_train_resampled.isnull().sum())  \n",
    "print(X_test.isnull().sum())  \n"
   ]
  },
  {
   "cell_type": "code",
   "execution_count": 104,
   "id": "ef6e3d9c-1588-4dff-9241-302e829aa0f0",
   "metadata": {},
   "outputs": [
    {
     "name": "stdout",
     "output_type": "stream",
     "text": [
      "HbA1c_level            float64\n",
      "blood_glucose_level    float64\n",
      "bmi                    float64\n",
      "age                    float64\n",
      "hypertension             int64\n",
      "heart_disease            int64\n",
      "dtype: object\n",
      "HbA1c_level            float64\n",
      "blood_glucose_level    float64\n",
      "bmi                    float64\n",
      "age                    float64\n",
      "hypertension             int64\n",
      "heart_disease            int64\n",
      "dtype: object\n"
     ]
    }
   ],
   "source": [
    "print(X_train_resampled.dtypes)\n",
    "print(X_test.dtypes)\n"
   ]
  },
  {
   "cell_type": "code",
   "execution_count": 106,
   "id": "13c4b878-5910-4f46-85e3-724b006ac791",
   "metadata": {},
   "outputs": [
    {
     "name": "stdout",
     "output_type": "stream",
     "text": [
      "HbA1c_level            0.605573\n",
      "blood_glucose_level    0.298279\n",
      "bmi                    0.206255\n",
      "age                    0.640798\n",
      "hypertension           0.147861\n",
      "heart_disease          0.091598\n",
      "dtype: float64\n",
      "HbA1c_level            1.206217\n",
      "blood_glucose_level    0.974634\n",
      "bmi                    0.053491\n",
      "age                    0.271290\n",
      "hypertension           0.354964\n",
      "heart_disease          0.288459\n",
      "dtype: float64\n"
     ]
    }
   ],
   "source": [
    "print(X_train_resampled.mean(axis=0))  \n",
    "print(X_train_resampled.std(axis=0))   \n"
   ]
  },
  {
   "cell_type": "code",
   "execution_count": null,
   "id": "9d896e71-2466-470d-9dca-390a673f8cdb",
   "metadata": {},
   "outputs": [],
   "source": [
    "#visualization"
   ]
  },
  {
   "cell_type": "code",
   "execution_count": null,
   "id": "1090d519-d29c-40b1-91c8-4c418578984e",
   "metadata": {},
   "outputs": [],
   "source": []
  }
 ],
 "metadata": {
  "kernelspec": {
   "display_name": "Python [conda env:base] *",
   "language": "python",
   "name": "conda-base-py"
  },
  "language_info": {
   "codemirror_mode": {
    "name": "ipython",
    "version": 3
   },
   "file_extension": ".py",
   "mimetype": "text/x-python",
   "name": "python",
   "nbconvert_exporter": "python",
   "pygments_lexer": "ipython3",
   "version": "3.12.7"
  }
 },
 "nbformat": 4,
 "nbformat_minor": 5
}
