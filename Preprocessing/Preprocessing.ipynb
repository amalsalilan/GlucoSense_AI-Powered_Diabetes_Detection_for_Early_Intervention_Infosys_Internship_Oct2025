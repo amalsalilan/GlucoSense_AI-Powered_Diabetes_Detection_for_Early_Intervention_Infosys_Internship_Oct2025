{
 "cells": [
  {
   "cell_type": "code",
   "execution_count": 7,
   "id": "4facbada-9b0b-45fe-b408-690f9e28427f",
   "metadata": {},
   "outputs": [],
   "source": [
    "import pandas as pd\n",
    "from sklearn.preprocessing import OneHotEncoder, StandardScaler, MinMaxScaler"
   ]
  },
  {
   "cell_type": "markdown",
   "id": "30991e1c-2368-4fcd-b117-4db056a460dc",
   "metadata": {},
   "source": [
    "#### Load the dataset"
   ]
  },
  {
   "cell_type": "code",
   "execution_count": 8,
   "id": "69849be6-44b3-4c4f-baa1-4cdcd0c875c1",
   "metadata": {},
   "outputs": [],
   "source": [
    "df = pd.read_csv(\"C:/Infosys Internship/Datasets/Finalized Dataset/diabetes_prediction_dataset.csv\")"
   ]
  },
  {
   "cell_type": "markdown",
   "id": "c13b57e9-5231-410c-a51e-afa0d2faeb4d",
   "metadata": {},
   "source": [
    "#### Displaying basic info"
   ]
  },
  {
   "cell_type": "code",
   "execution_count": 9,
   "id": "7e55dfae-0d0d-4e5b-a275-a3268614bed9",
   "metadata": {},
   "outputs": [
    {
     "name": "stdout",
     "output_type": "stream",
     "text": [
      "<class 'pandas.core.frame.DataFrame'>\n",
      "RangeIndex: 100000 entries, 0 to 99999\n",
      "Data columns (total 9 columns):\n",
      " #   Column               Non-Null Count   Dtype  \n",
      "---  ------               --------------   -----  \n",
      " 0   gender               100000 non-null  object \n",
      " 1   age                  100000 non-null  float64\n",
      " 2   hypertension         100000 non-null  int64  \n",
      " 3   heart_disease        100000 non-null  int64  \n",
      " 4   smoking_history      100000 non-null  object \n",
      " 5   bmi                  100000 non-null  float64\n",
      " 6   HbA1c_level          100000 non-null  float64\n",
      " 7   blood_glucose_level  100000 non-null  int64  \n",
      " 8   diabetes             100000 non-null  int64  \n",
      "dtypes: float64(3), int64(4), object(2)\n",
      "memory usage: 6.9+ MB\n"
     ]
    },
    {
     "data": {
      "text/plain": [
       "None"
      ]
     },
     "metadata": {},
     "output_type": "display_data"
    },
    {
     "data": {
      "text/html": [
       "<div>\n",
       "<style scoped>\n",
       "    .dataframe tbody tr th:only-of-type {\n",
       "        vertical-align: middle;\n",
       "    }\n",
       "\n",
       "    .dataframe tbody tr th {\n",
       "        vertical-align: top;\n",
       "    }\n",
       "\n",
       "    .dataframe thead th {\n",
       "        text-align: right;\n",
       "    }\n",
       "</style>\n",
       "<table border=\"1\" class=\"dataframe\">\n",
       "  <thead>\n",
       "    <tr style=\"text-align: right;\">\n",
       "      <th></th>\n",
       "      <th>gender</th>\n",
       "      <th>age</th>\n",
       "      <th>hypertension</th>\n",
       "      <th>heart_disease</th>\n",
       "      <th>smoking_history</th>\n",
       "      <th>bmi</th>\n",
       "      <th>HbA1c_level</th>\n",
       "      <th>blood_glucose_level</th>\n",
       "      <th>diabetes</th>\n",
       "    </tr>\n",
       "  </thead>\n",
       "  <tbody>\n",
       "    <tr>\n",
       "      <th>0</th>\n",
       "      <td>Female</td>\n",
       "      <td>80.0</td>\n",
       "      <td>0</td>\n",
       "      <td>1</td>\n",
       "      <td>never</td>\n",
       "      <td>25.19</td>\n",
       "      <td>6.6</td>\n",
       "      <td>140</td>\n",
       "      <td>0</td>\n",
       "    </tr>\n",
       "    <tr>\n",
       "      <th>1</th>\n",
       "      <td>Female</td>\n",
       "      <td>54.0</td>\n",
       "      <td>0</td>\n",
       "      <td>0</td>\n",
       "      <td>No Info</td>\n",
       "      <td>27.32</td>\n",
       "      <td>6.6</td>\n",
       "      <td>80</td>\n",
       "      <td>0</td>\n",
       "    </tr>\n",
       "    <tr>\n",
       "      <th>2</th>\n",
       "      <td>Male</td>\n",
       "      <td>28.0</td>\n",
       "      <td>0</td>\n",
       "      <td>0</td>\n",
       "      <td>never</td>\n",
       "      <td>27.32</td>\n",
       "      <td>5.7</td>\n",
       "      <td>158</td>\n",
       "      <td>0</td>\n",
       "    </tr>\n",
       "    <tr>\n",
       "      <th>3</th>\n",
       "      <td>Female</td>\n",
       "      <td>36.0</td>\n",
       "      <td>0</td>\n",
       "      <td>0</td>\n",
       "      <td>current</td>\n",
       "      <td>23.45</td>\n",
       "      <td>5.0</td>\n",
       "      <td>155</td>\n",
       "      <td>0</td>\n",
       "    </tr>\n",
       "    <tr>\n",
       "      <th>4</th>\n",
       "      <td>Male</td>\n",
       "      <td>76.0</td>\n",
       "      <td>1</td>\n",
       "      <td>1</td>\n",
       "      <td>current</td>\n",
       "      <td>20.14</td>\n",
       "      <td>4.8</td>\n",
       "      <td>155</td>\n",
       "      <td>0</td>\n",
       "    </tr>\n",
       "  </tbody>\n",
       "</table>\n",
       "</div>"
      ],
      "text/plain": [
       "   gender   age  hypertension  heart_disease smoking_history    bmi  \\\n",
       "0  Female  80.0             0              1           never  25.19   \n",
       "1  Female  54.0             0              0         No Info  27.32   \n",
       "2    Male  28.0             0              0           never  27.32   \n",
       "3  Female  36.0             0              0         current  23.45   \n",
       "4    Male  76.0             1              1         current  20.14   \n",
       "\n",
       "   HbA1c_level  blood_glucose_level  diabetes  \n",
       "0          6.6                  140         0  \n",
       "1          6.6                   80         0  \n",
       "2          5.7                  158         0  \n",
       "3          5.0                  155         0  \n",
       "4          4.8                  155         0  "
      ]
     },
     "metadata": {},
     "output_type": "display_data"
    }
   ],
   "source": [
    "display(df.info())\n",
    "display(df.head())"
   ]
  },
  {
   "cell_type": "markdown",
   "id": "4d471916-a62c-47f2-88a1-6d6fc720610a",
   "metadata": {},
   "source": [
    "##### Handling the missing values"
   ]
  },
  {
   "cell_type": "code",
   "execution_count": 10,
   "id": "6a4c8e6c-ef5d-479f-a190-a00adb77dd5c",
   "metadata": {},
   "outputs": [],
   "source": [
    "df = df.dropna()"
   ]
  },
  {
   "cell_type": "markdown",
   "id": "635fe088-eb53-454b-8377-85ce8deb0575",
   "metadata": {},
   "source": [
    "##### Encoding the categorical variables"
   ]
  },
  {
   "cell_type": "code",
   "execution_count": 11,
   "id": "eee640ea-31f5-4f04-8381-fcb3d63f20b3",
   "metadata": {},
   "outputs": [],
   "source": [
    "ohe = OneHotEncoder(sparse_output=False, drop='first')\n",
    "categorical_cols = ['gender', 'smoking_history']\n",
    "encoded_df = pd.DataFrame(ohe.fit_transform(df[categorical_cols]), columns=ohe.get_feature_names_out())"
   ]
  },
  {
   "cell_type": "markdown",
   "id": "345f3fbb-e57e-4caf-88dd-5a9b54be7ff3",
   "metadata": {},
   "source": [
    "##### Concatenating the encoded columns & also dropping original categorical columns"
   ]
  },
  {
   "cell_type": "code",
   "execution_count": 12,
   "id": "10d706f4-9ee0-452b-90cd-bb9e4990edf1",
   "metadata": {},
   "outputs": [],
   "source": [
    "df = pd.concat([df, encoded_df], axis=1).drop(columns=categorical_cols)"
   ]
  },
  {
   "cell_type": "markdown",
   "id": "05decc64-a75f-40c0-b540-770996fc3c8d",
   "metadata": {},
   "source": [
    "##### Defining the columns for scaling"
   ]
  },
  {
   "cell_type": "code",
   "execution_count": 13,
   "id": "4ebb6e62-f025-4cfc-b7dd-d663664a4be4",
   "metadata": {},
   "outputs": [],
   "source": [
    "standard_scaler_cols = ['blood_glucose_level']\n",
    "minmax_scaler_cols = ['bmi', 'age']"
   ]
  },
  {
   "cell_type": "markdown",
   "id": "a21fa70d-c3f1-4d44-b49e-f53f6d7440e4",
   "metadata": {},
   "source": [
    "##### Applying StandardScaler to 'blood glucose level'"
   ]
  },
  {
   "cell_type": "code",
   "execution_count": 14,
   "id": "b4416725-a2f6-4252-a6b1-1600e2b7201c",
   "metadata": {},
   "outputs": [],
   "source": [
    "standard_scaler = StandardScaler()\n",
    "df[standard_scaler_cols] = standard_scaler.fit_transform(df[standard_scaler_cols])"
   ]
  },
  {
   "cell_type": "markdown",
   "id": "ee0cf90a-f9f3-4159-8c1d-8460bc0ee010",
   "metadata": {},
   "source": [
    "##### Applying MinMaxScaler to 'BMI' & 'Age'"
   ]
  },
  {
   "cell_type": "code",
   "execution_count": 15,
   "id": "2c6bb2e4-d0f6-4aac-9ed3-7ea731739562",
   "metadata": {},
   "outputs": [],
   "source": [
    "minmax_scaler = MinMaxScaler()\n",
    "df[minmax_scaler_cols] = minmax_scaler.fit_transform(df[minmax_scaler_cols])"
   ]
  },
  {
   "cell_type": "markdown",
   "id": "f56674e0-307c-4637-af66-0b88fa95e00f",
   "metadata": {},
   "source": [
    "#### Displaying the preprocessed dataset:"
   ]
  },
  {
   "cell_type": "code",
   "execution_count": 16,
   "id": "b8b28fa2-2665-428f-8a1c-694ac0109bbe",
   "metadata": {},
   "outputs": [
    {
     "data": {
      "text/html": [
       "<div>\n",
       "<style scoped>\n",
       "    .dataframe tbody tr th:only-of-type {\n",
       "        vertical-align: middle;\n",
       "    }\n",
       "\n",
       "    .dataframe tbody tr th {\n",
       "        vertical-align: top;\n",
       "    }\n",
       "\n",
       "    .dataframe thead th {\n",
       "        text-align: right;\n",
       "    }\n",
       "</style>\n",
       "<table border=\"1\" class=\"dataframe\">\n",
       "  <thead>\n",
       "    <tr style=\"text-align: right;\">\n",
       "      <th></th>\n",
       "      <th>age</th>\n",
       "      <th>hypertension</th>\n",
       "      <th>heart_disease</th>\n",
       "      <th>bmi</th>\n",
       "      <th>HbA1c_level</th>\n",
       "      <th>blood_glucose_level</th>\n",
       "      <th>diabetes</th>\n",
       "      <th>gender_Male</th>\n",
       "      <th>gender_Other</th>\n",
       "      <th>smoking_history_current</th>\n",
       "      <th>smoking_history_ever</th>\n",
       "      <th>smoking_history_former</th>\n",
       "      <th>smoking_history_never</th>\n",
       "      <th>smoking_history_not current</th>\n",
       "    </tr>\n",
       "  </thead>\n",
       "  <tbody>\n",
       "    <tr>\n",
       "      <th>0</th>\n",
       "      <td>1.000000</td>\n",
       "      <td>0</td>\n",
       "      <td>1</td>\n",
       "      <td>0.177171</td>\n",
       "      <td>6.6</td>\n",
       "      <td>0.047704</td>\n",
       "      <td>0</td>\n",
       "      <td>0.0</td>\n",
       "      <td>0.0</td>\n",
       "      <td>0.0</td>\n",
       "      <td>0.0</td>\n",
       "      <td>0.0</td>\n",
       "      <td>1.0</td>\n",
       "      <td>0.0</td>\n",
       "    </tr>\n",
       "    <tr>\n",
       "      <th>1</th>\n",
       "      <td>0.674675</td>\n",
       "      <td>0</td>\n",
       "      <td>0</td>\n",
       "      <td>0.202031</td>\n",
       "      <td>6.6</td>\n",
       "      <td>-1.426210</td>\n",
       "      <td>0</td>\n",
       "      <td>0.0</td>\n",
       "      <td>0.0</td>\n",
       "      <td>0.0</td>\n",
       "      <td>0.0</td>\n",
       "      <td>0.0</td>\n",
       "      <td>0.0</td>\n",
       "      <td>0.0</td>\n",
       "    </tr>\n",
       "    <tr>\n",
       "      <th>2</th>\n",
       "      <td>0.349349</td>\n",
       "      <td>0</td>\n",
       "      <td>0</td>\n",
       "      <td>0.202031</td>\n",
       "      <td>5.7</td>\n",
       "      <td>0.489878</td>\n",
       "      <td>0</td>\n",
       "      <td>1.0</td>\n",
       "      <td>0.0</td>\n",
       "      <td>0.0</td>\n",
       "      <td>0.0</td>\n",
       "      <td>0.0</td>\n",
       "      <td>1.0</td>\n",
       "      <td>0.0</td>\n",
       "    </tr>\n",
       "    <tr>\n",
       "      <th>3</th>\n",
       "      <td>0.449449</td>\n",
       "      <td>0</td>\n",
       "      <td>0</td>\n",
       "      <td>0.156863</td>\n",
       "      <td>5.0</td>\n",
       "      <td>0.416183</td>\n",
       "      <td>0</td>\n",
       "      <td>0.0</td>\n",
       "      <td>0.0</td>\n",
       "      <td>1.0</td>\n",
       "      <td>0.0</td>\n",
       "      <td>0.0</td>\n",
       "      <td>0.0</td>\n",
       "      <td>0.0</td>\n",
       "    </tr>\n",
       "    <tr>\n",
       "      <th>4</th>\n",
       "      <td>0.949950</td>\n",
       "      <td>1</td>\n",
       "      <td>1</td>\n",
       "      <td>0.118231</td>\n",
       "      <td>4.8</td>\n",
       "      <td>0.416183</td>\n",
       "      <td>0</td>\n",
       "      <td>1.0</td>\n",
       "      <td>0.0</td>\n",
       "      <td>1.0</td>\n",
       "      <td>0.0</td>\n",
       "      <td>0.0</td>\n",
       "      <td>0.0</td>\n",
       "      <td>0.0</td>\n",
       "    </tr>\n",
       "  </tbody>\n",
       "</table>\n",
       "</div>"
      ],
      "text/plain": [
       "        age  hypertension  heart_disease       bmi  HbA1c_level  \\\n",
       "0  1.000000             0              1  0.177171          6.6   \n",
       "1  0.674675             0              0  0.202031          6.6   \n",
       "2  0.349349             0              0  0.202031          5.7   \n",
       "3  0.449449             0              0  0.156863          5.0   \n",
       "4  0.949950             1              1  0.118231          4.8   \n",
       "\n",
       "   blood_glucose_level  diabetes  gender_Male  gender_Other  \\\n",
       "0             0.047704         0          0.0           0.0   \n",
       "1            -1.426210         0          0.0           0.0   \n",
       "2             0.489878         0          1.0           0.0   \n",
       "3             0.416183         0          0.0           0.0   \n",
       "4             0.416183         0          1.0           0.0   \n",
       "\n",
       "   smoking_history_current  smoking_history_ever  smoking_history_former  \\\n",
       "0                      0.0                   0.0                     0.0   \n",
       "1                      0.0                   0.0                     0.0   \n",
       "2                      0.0                   0.0                     0.0   \n",
       "3                      1.0                   0.0                     0.0   \n",
       "4                      1.0                   0.0                     0.0   \n",
       "\n",
       "   smoking_history_never  smoking_history_not current  \n",
       "0                    1.0                          0.0  \n",
       "1                    0.0                          0.0  \n",
       "2                    1.0                          0.0  \n",
       "3                    0.0                          0.0  \n",
       "4                    0.0                          0.0  "
      ]
     },
     "metadata": {},
     "output_type": "display_data"
    }
   ],
   "source": [
    "display(df.head())"
   ]
  },
  {
   "cell_type": "code",
   "execution_count": null,
   "id": "b57058ed-90e1-4fa5-aaa5-3dbb7cbd84f8",
   "metadata": {},
   "outputs": [],
   "source": []
  }
 ],
 "metadata": {
  "kernelspec": {
   "display_name": "Python 3 (ipykernel)",
   "language": "python",
   "name": "python3"
  },
  "language_info": {
   "codemirror_mode": {
    "name": "ipython",
    "version": 3
   },
   "file_extension": ".py",
   "mimetype": "text/x-python",
   "name": "python",
   "nbconvert_exporter": "python",
   "pygments_lexer": "ipython3",
   "version": "3.13.2"
  }
 },
 "nbformat": 4,
 "nbformat_minor": 5
}
