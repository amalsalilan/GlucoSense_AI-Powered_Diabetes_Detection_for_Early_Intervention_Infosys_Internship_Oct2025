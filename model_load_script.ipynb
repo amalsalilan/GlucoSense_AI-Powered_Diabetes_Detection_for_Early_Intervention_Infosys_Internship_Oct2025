{
 "cells": [
  {
   "cell_type": "code",
   "execution_count": 2,
   "id": "64e52cad-0c50-4306-969d-7dd59c492db6",
   "metadata": {},
   "outputs": [
    {
     "name": "stdin",
     "output_type": "stream",
     "text": [
      "Enter gender (male/female):  female\n",
      "Enter age:  20\n",
      "Do you have hypertension? (1 for Yes, 0 for No):  0\n",
      "Do you have heart disease? (1 for Yes, 0 for No):  0\n",
      "Enter BMI:  27.32\n",
      "Enter HbA1c level:  6.6\n",
      "Enter blood glucose level:  85\n",
      "Enter smoking history (never, current, former, not_current, ever):  never\n"
     ]
    },
    {
     "name": "stdout",
     "output_type": "stream",
     "text": [
      "User input data:\n",
      "   gender   age  hypertension  heart_disease    bmi  HbA1c_level  \\\n",
      "0       1  20.0             0              0  27.32          6.6   \n",
      "\n",
      "   blood_glucose_level  smoking_history_never  smoking_history_current  \\\n",
      "0                 85.0                      1                        0   \n",
      "\n",
      "   smoking_history_former  smoking_history_not_current  smoking_history_ever  \n",
      "0                       0                            0                     0  \n",
      "Prediction: Diabetes detected\n"
     ]
    }
   ],
   "source": [
    "import pandas as pd\n",
    "import joblib\n",
    "\n",
    "# Load the pre-trained XGBoost model\n",
    "model_predict = joblib.load(\"XGBoost_Diabetes_model.joblib\")\n",
    "\n",
    "# Define a function to take user input and store it in a DataFrame\n",
    "def get_user_input():\n",
    "    try:\n",
    "        gender = input(\"Enter gender (male/female): \").strip().lower()\n",
    "        age = float(input(\"Enter age: \"))\n",
    "        hypertension = int(input(\"Do you have hypertension? (1 for Yes, 0 for No): \"))\n",
    "        heart_disease = int(input(\"Do you have heart disease? (1 for Yes, 0 for No): \"))\n",
    "        bmi = float(input(\"Enter BMI: \"))\n",
    "        HbA1c_level = float(input(\"Enter HbA1c level: \"))\n",
    "        blood_glucose_level = float(input(\"Enter blood glucose level: \"))\n",
    "        smoking_history = input(\"Enter smoking history (never, current, former, not_current, ever): \").strip().lower()\n",
    "\n",
    "    except ValueError:\n",
    "        print(\"Invalid input. Please enter the correct numerical values.\")\n",
    "        return None  # If there's an error in conversion, return None\n",
    "\n",
    "    # Encode gender\n",
    "    gender_map = {\"male\": 0, \"female\": 1}\n",
    "    gender_value = gender_map.get(gender, -1)  # Default to -1 if invalid\n",
    "\n",
    "    if gender_value == -1:\n",
    "        print(\"Invalid gender input. Please enter 'male' or 'female'.\")\n",
    "        return None  # Stop execution if invalid gender\n",
    "\n",
    "    # Map smoking history to one-hot encoding\n",
    "    smoking_history_map = {\n",
    "        \"never\": 1, \"current\": 2, \"former\": 3, \"not_current\": 4, \"ever\": 5\n",
    "    }\n",
    "    smoking_value = smoking_history_map.get(smoking_history, 0)  # Default to 0 if invalid\n",
    "\n",
    "    # Create DataFrame for prediction\n",
    "    input_data = pd.DataFrame({\n",
    "        'gender': [gender_value],\n",
    "        'age': [age],\n",
    "        'hypertension': [hypertension],\n",
    "        'heart_disease': [heart_disease],\n",
    "        'bmi': [bmi],\n",
    "        'HbA1c_level': [HbA1c_level],\n",
    "        'blood_glucose_level': [blood_glucose_level],\n",
    "        'smoking_history_never': [1 if smoking_value == 1 else 0],\n",
    "        'smoking_history_current': [1 if smoking_value == 2 else 0],\n",
    "        'smoking_history_former': [1 if smoking_value == 3 else 0],\n",
    "        'smoking_history_not_current': [1 if smoking_value == 4 else 0],\n",
    "        'smoking_history_ever': [1 if smoking_value == 5 else 0]\n",
    "    })\n",
    "\n",
    "    return input_data\n",
    "\n",
    "# Get user input\n",
    "user_input_data = get_user_input()\n",
    "\n",
    "if user_input_data is not None:\n",
    "    print(\"User input data:\")\n",
    "    print(user_input_data)\n",
    "\n",
    "    # Ensure the input data has the same columns as the model expects\n",
    "    try:\n",
    "        prediction = model_predict.predict(user_input_data)\n",
    "\n",
    "        # Display the prediction result\n",
    "        if prediction[0] == 1:\n",
    "            print(\"Prediction: Diabetes detected\")\n",
    "        else:\n",
    "            print(\"Prediction: No Diabetes detected\")\n",
    "\n",
    "    except Exception as e:\n",
    "        print(\"Error during prediction:\", str(e))\n",
    "else:\n",
    "    print(\"No valid input received. Prediction cannot be made.\")\n"
   ]
  },
  {
   "cell_type": "code",
   "execution_count": null,
   "id": "168144d5-d1be-4895-9567-6ef853bdc2fd",
   "metadata": {},
   "outputs": [],
   "source": []
  }
 ],
 "metadata": {
  "kernelspec": {
   "display_name": "Python 3 (ipykernel)",
   "language": "python",
   "name": "python3"
  },
  "language_info": {
   "codemirror_mode": {
    "name": "ipython",
    "version": 3
   },
   "file_extension": ".py",
   "mimetype": "text/x-python",
   "name": "python",
   "nbconvert_exporter": "python",
   "pygments_lexer": "ipython3",
   "version": "3.12.6"
  },
  "widgets": {
   "application/vnd.jupyter.widget-state+json": {
    "state": {},
    "version_major": 2,
    "version_minor": 0
   }
  }
 },
 "nbformat": 4,
 "nbformat_minor": 5
}
