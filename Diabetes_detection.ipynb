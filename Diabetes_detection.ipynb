{
 "cells": [
  {
   "cell_type": "code",
   "execution_count": null,
   "id": "2db94563",
   "metadata": {},
   "outputs": [],
   "source": [
    "import pandas as pd\n",
    "import numpy as np\n",
    "import matplotlib.pyplot as plt\n",
    "import seaborn as sns\n",
    "from scipy import stats"
   ]
  },
  {
   "cell_type": "code",
   "execution_count": null,
   "id": "c8e865a3",
   "metadata": {},
   "outputs": [],
   "source": [
    "df = pd.read_csv(r\"C:\\Users\\ghans\\Downloads\\diabetes_prediction_dataset.csv\")"
   ]
  },
  {
   "cell_type": "code",
   "execution_count": null,
   "id": "e1587b49",
   "metadata": {},
   "outputs": [],
   "source": [
    "print(\"--- Data Quality and Integrity Check (Part 1) ---\")\n",
    "print(df.describe())"
   ]
  },
  {
   "cell_type": "code",
   "execution_count": null,
   "id": "c8ac53bb",
   "metadata": {},
   "outputs": [],
   "source": [
    "df.isnull().sum()"
   ]
  },
  {
   "cell_type": "code",
   "execution_count": null,
   "id": "99b064f5",
   "metadata": {},
   "outputs": [],
   "source": [
    "df.info()"
   ]
  },
  {
   "cell_type": "code",
   "execution_count": null,
   "id": "fd0884be",
   "metadata": {},
   "outputs": [],
   "source": [
    "print(df['smoking_history'].value_counts())"
   ]
  },
  {
   "cell_type": "code",
   "execution_count": null,
   "id": "a076a281",
   "metadata": {},
   "outputs": [],
   "source": [
    "print(df['diabetes'].value_counts(normalize=True))"
   ]
  },
  {
   "cell_type": "code",
   "execution_count": null,
   "id": "549bdc7d",
   "metadata": {},
   "outputs": [],
   "source": [
    "print(\"--- Data Quality and Integrity Check (Part 2: Outlier Detection) ---\")\n",
    "continuous_features = ['bmi', 'HbA1c_level', 'blood_glucose_level']\n",
    "plt.figure(figsize=(15, 5))\n",
    "for i, col in enumerate(continuous_features):\n",
    "    plt.subplot(1, 3, i + 1)\n",
    "    sns.boxplot(x=df[col])\n",
    "    plt.title(f'Boxplot of {col}')\n",
    "plt.show()\n"
   ]
  },
  {
   "cell_type": "code",
   "execution_count": null,
   "id": "dbde0374",
   "metadata": {},
   "outputs": [],
   "source": [
    " print(\"--- Data Quality and Integrity Check (Part 3: IQR Outlier Removal) ---\")\n",
    "for col in continuous_features:\n",
    "    Q1 = df[col].quantile(0.25)\n",
    "    Q3 = df[col].quantile(0.75)\n",
    "    IQR = Q3 - Q1\n",
    "    lower_bound = Q1 - 1.5 * IQR\n",
    "    upper_bound = Q3 + 1.5 * IQR\n",
    "    df = df[(df[col] >= lower_bound) & (df[col] <= upper_bound)]"
   ]
  },
  {
   "cell_type": "code",
   "execution_count": null,
   "id": "d967001a",
   "metadata": {},
   "outputs": [],
   "source": [
    "print(\"\\n--- Univariate Analysis (Histograms) ---\")\n",
    "plt.figure(figsize=(15, 10))\n",
    "for i, col in enumerate(['age', 'bmi', 'HbA1c_level', 'blood_glucose_level']):\n",
    "    plt.subplot(2, 2, i + 1)\n",
    "    sns.histplot(df[col], kde=True)\n",
    "    plt.title(f'Distribution of {col}')\n",
    "plt.show()"
   ]
  },
  {
   "cell_type": "code",
   "execution_count": null,
   "id": "e4a6565d",
   "metadata": {},
   "outputs": [],
   "source": [
    "print(\"\\n--- Univariate Analysis (BMI Categorization) ---\")\n",
    "bins = [0, 18.5, 25, 30, float('inf')]\n",
    "labels = ['Underweight', 'Normal', 'Overweight', 'Obese']\n",
    "df['bmi_category'] = pd.cut(df['bmi'], bins=bins, labels=labels, right=False)\n",
    "print(df['bmi_category'].value_counts())"
   ]
  },
  {
   "cell_type": "code",
   "execution_count": null,
   "id": "60ecb0c9",
   "metadata": {},
   "outputs": [],
   "source": [
    "print(\"\\n--- Bivariate Analysis (Age and BMI vs. Diabetes) ---\")\n",
    "plt.figure(figsize=(15, 5))\n",
    "plt.subplot(1, 2, 1)\n",
    "sns.boxplot(x='diabetes', y='age', data=df)\n",
    "plt.title('Age vs. Diabetes')\n",
    "plt.subplot(1, 2, 2)\n",
    "sns.boxplot(x='diabetes', y='bmi', data=df)\n",
    "plt.title('BMI vs. Diabetes')\n",
    "plt.show()"
   ]
  },
  {
   "cell_type": "code",
   "execution_count": null,
   "id": "40fbcbef",
   "metadata": {},
   "outputs": [],
   "source": [
    "print(\"\\n--- Bivariate Analysis (Smoking History vs. Diabetes) ---\")\n",
    "plt.figure(figsize=(8, 5))\n",
    "sns.countplot(x='smoking_history', hue='diabetes', data=df)\n",
    "plt.title('Smoking History vs. Diabetes')\n",
    "plt.xticks(rotation=45)\n",
    "plt.show()\n"
   ]
  },
  {
   "cell_type": "code",
   "execution_count": null,
   "id": "664a8fc3",
   "metadata": {},
   "outputs": [],
   "source": [
    "print(\"\\n--- Multivariate Analysis (Correlation Heatmap) ---\")\n",
    "plt.figure(figsize=(10, 8))\n",
    "sns.heatmap(df.corr(), annot=True, cmap='coolwarm')\n",
    "plt.title('Correlation Heatmap')\n",
    "plt.show()\n"
   ]
  },
  {
   "cell_type": "code",
   "execution_count": null,
   "id": "457b4945",
   "metadata": {},
   "outputs": [],
   "source": [
    "print(\"\\n--- Comorbidity Analysis (Hypertension and Heart Disease) ---\")\n",
    "plt.figure(figsize=(10, 5))\n",
    "plt.subplot(1, 2, 1)\n",
    "sns.countplot(x='hypertension', hue='diabetes', data=df)\n",
    "plt.title('Hypertension vs. Diabetes')\n",
    "plt.subplot(1, 2, 2)\n",
    "sns.countplot(x='heart_disease', hue='diabetes', data=df)\n",
    "plt.title('Heart Disease vs. Diabetes')\n",
    "plt.show()"
   ]
  },
  {
   "cell_type": "code",
   "execution_count": null,
   "id": "3fce0c53",
   "metadata": {},
   "outputs": [],
   "source": [
    "print(\"\\n--- Comorbidity Analysis (Number of Comorbidities) ---\")\n",
    "df['comorbidities'] = df['hypertension'] + df['heart_disease']\n",
    "plt.figure(figsize=(8, 5))\n",
    "sns.countplot(x='comorbidities', hue='diabetes', data=df)\n",
    "plt.title('Number of Comorbidities vs. Diabetes')\n",
    "plt.show()"
   ]
  },
  {
   "cell_type": "code",
   "execution_count": null,
   "id": "2187c3f0",
   "metadata": {},
   "outputs": [],
   "source": [
    "print(\"\\n--- Gender and Health Outcome Disparities ---\")\n",
    "plt.figure(figsize=(8, 5))\n",
    "sns.countplot(x='gender', hue='diabetes', data=df)\n",
    "plt.title('Gender vs. Diabetes')\n",
    "plt.show()"
   ]
  },
  {
   "cell_type": "code",
   "execution_count": null,
   "id": "1079c8c5",
   "metadata": {},
   "outputs": [],
   "source": [
    "print(\"\\n--- Anomaly Detection and Risk Stratification (Z-scores) ---\")\n",
    "z_scores = np.abs(stats.zscore(df['blood_glucose_level']))\n",
    "anomalies = df[z_scores > 3]\n",
    "print(\"Anomalies (high blood glucose):\")\n",
    "print(anomalies)\n"
   ]
  },
  {
   "cell_type": "code",
   "execution_count": null,
   "id": "3e8e2f45",
   "metadata": {},
   "outputs": [],
   "source": [
    "print(\"\\n--- Anomaly Detection and Risk Stratification (Risk Profiles) ---\")\n",
    "high_risk = df[(df['age'] > 60) & (df['bmi'] > 30) & (df['HbA1c_level'] > 7)]\n",
    "print(\"\\nHigh-Risk Profiles:\")\n",
    "print(high_risk)\n"
   ]
  },
  {
   "cell_type": "code",
   "execution_count": null,
   "id": "4f7a81e9",
   "metadata": {},
   "outputs": [],
   "source": [
    "print(\"\\n--- Feature Engineering Opportunities (Age Groups) ---\")\n",
    "bins_age = [0, 20, 40, 60, float('inf')]\n",
    "labels_age = ['0-20', '21-40', '41-60', '61+']\n",
    "df['age_group'] = pd.cut(df['age'], bins=bins_age, labels=labels_age, right=False)"
   ]
  },
  {
   "cell_type": "code",
   "execution_count": null,
   "id": "cec17ee4",
   "metadata": {},
   "outputs": [],
   "source": [
    "print(\"\\n--- Feature Engineering Opportunities (Composite Risk Score) ---\")\n",
    "df['risk_score'] = (df['bmi'] / df['bmi'].max() +\n",
    "                    df['HbA1c_level'] / df['HbA1c_level'].max() +\n",
    "                    df['blood_glucose_level'] / df['blood_glucose_level'].max()) / 3\n"
   ]
  },
  {
   "cell_type": "code",
   "execution_count": null,
   "id": "e8bd3dd5",
   "metadata": {},
   "outputs": [],
   "source": [
    "print(\"\\n--- Feature Engineering Opportunities (Interaction Terms) ---\")\n",
    "df['age_bmi'] = df['age'] * df['bmi']\n",
    "df['bmi_HbA1c'] = df['bmi'] * df['HbA1c_level']\n",
    "print(df.head())"
   ]
  },
  {
   "cell_type": "code",
   "execution_count": null,
   "id": "b543d30f",
   "metadata": {},
   "outputs": [],
   "source": []
  }
 ],
 "metadata": {
  "kernelspec": {
   "display_name": "Python 3 (ipykernel)",
   "language": "python",
   "name": "python3"
  },
  "language_info": {
   "codemirror_mode": {
    "name": "ipython",
    "version": 3
   },
   "file_extension": ".py",
   "mimetype": "text/x-python",
   "name": "python",
   "nbconvert_exporter": "python",
   "pygments_lexer": "ipython3",
   "version": "3.7.9"
  }
 },
 "nbformat": 4,
 "nbformat_minor": 5
}
