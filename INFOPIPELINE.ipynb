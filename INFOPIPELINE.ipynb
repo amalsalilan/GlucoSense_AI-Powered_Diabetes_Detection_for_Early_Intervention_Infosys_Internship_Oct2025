{
  "nbformat": 4,
  "nbformat_minor": 0,
  "metadata": {
    "colab": {
      "provenance": []
    },
    "kernelspec": {
      "name": "python3",
      "display_name": "Python 3"
    },
    "language_info": {
      "name": "python"
    }
  },
  "cells": [
    {
      "cell_type": "markdown",
      "source": [
        "## **Modelling**"
      ],
      "metadata": {
        "id": "SyheG73JjDwh"
      }
    },
    {
      "cell_type": "code",
      "source": [
        "import pandas as pd\n",
        "import numpy as np\n",
        "import matplotlib.pyplot as plt\n",
        "import seaborn as sns\n",
        "from sklearn.pipeline import Pipeline\n",
        "from sklearn.compose import ColumnTransformer\n",
        "from sklearn.impute import SimpleImputer\n",
        "from sklearn.preprocessing import StandardScaler, OneHotEncoder\n",
        "from sklearn.model_selection import train_test_split\n",
        "from imblearn.over_sampling import SMOTE\n",
        "from xgboost import XGBClassifier\n",
        "from sklearn.metrics import classification_report, recall_score, confusion_matrix, ConfusionMatrixDisplay\n",
        "from sklearn.ensemble import RandomForestClassifier\n",
        "from sklearn.feature_selection import SelectFromModel\n",
        "\n",
        "# Load dataset\n",
        "df = pd.read_csv(\"/diabetes_prediction_dataset.csv\")\n",
        "\n",
        "# Define categorical and numerical columns\n",
        "cat_col = ['gender', 'smoking_history']\n",
        "num_col = ['age', 'bmi', 'HbA1c_level', 'blood_glucose_level']\n",
        "\n",
        "# Define pipelines for numerical and categorical transformations\n",
        "numeric_transformer = Pipeline([\n",
        "    (\"imputer\", SimpleImputer(strategy=\"median\")),\n",
        "    (\"scaler\", StandardScaler())\n",
        "])\n",
        "\n",
        "categorical_transformer = Pipeline([\n",
        "    ('imputer', SimpleImputer(strategy='most_frequent')),\n",
        "    ('encoder', OneHotEncoder(handle_unknown='ignore'))\n",
        "])\n",
        "\n",
        "# Combine transformations using ColumnTransformer\n",
        "preprocessor = ColumnTransformer(\n",
        "    transformers=[\n",
        "        ('num', numeric_transformer, num_col),\n",
        "        ('cat', categorical_transformer, cat_col)\n",
        "    ], remainder='passthrough'\n",
        ")\n",
        "\n",
        "# Split dataset into train and test\n",
        "X = df.drop(columns=['diabetes'])\n",
        "y = df['diabetes']\n",
        "X_train, X_test, y_train, y_test = train_test_split(X, y, random_state=42, stratify=y)\n",
        "\n",
        "# Apply transformations\n",
        "X_train_transformed = preprocessor.fit_transform(X_train)\n",
        "X_test_transformed = preprocessor.transform(X_test)\n",
        "\n",
        "# Apply SMOTE\n",
        "smote = SMOTE(random_state=42)\n",
        "X_train_res, y_train_res = smote.fit_resample(X_train_transformed, y_train)\n",
        "\n",
        "# Convert back to DataFrame after SMOTE\n",
        "X_train_res = pd.DataFrame(X_train_res, columns=preprocessor.get_feature_names_out())\n",
        "\n",
        "# Compute class imbalance ratio\n",
        "class_counts = df['diabetes'].value_counts()\n",
        "majority_class = class_counts[0]\n",
        "minority_class = class_counts[1]\n",
        "ratio = majority_class / minority_class\n",
        "\n",
        "# Feature Selection using RandomForestClassifier\n",
        "feature_selector = RandomForestClassifier(random_state=42)\n",
        "feature_selector.fit(X_train_res, y_train_res)\n",
        "selected_features = SelectFromModel(feature_selector, threshold='median', prefit=True)\n",
        "X_train_selected = selected_features.transform(X_train_res)\n",
        "X_test_selected = selected_features.transform(X_test_transformed)\n",
        "\n",
        "# Define final model pipeline with XGBoost\n",
        "clf = Pipeline([\n",
        "    ('preprocessor', preprocessor),\n",
        "    ('feature_selection', selected_features),\n",
        "    ('classifier', XGBClassifier(\n",
        "        scale_pos_weight=ratio,\n",
        "        eval_metric='logloss',\n",
        "        random_state=42\n",
        "    ))\n",
        "])\n",
        "\n",
        "# Train model\n",
        "clf.fit(X_train, y_train)\n",
        "\n",
        "# ✅ Save the trained model in XGBoost format\n",
        "clf.named_steps[\"classifier\"].save_model(\"Pipeline_clf.json\")\n",
        "\n",
        "# ✅ Load the trained model for Flask app\n",
        "model = XGBClassifier()\n",
        "model.load_model(\"Pipeline_clf.json\")\n",
        "\n",
        "# Make predictions\n",
        "predictions = model.predict(X_test_selected)\n",
        "\n",
        "# Evaluate performance\n",
        "print(classification_report(y_test, predictions))\n",
        "print(f\"Recall Score: {round(recall_score(y_test, predictions) * 100, 2)}%\")\n",
        "\n",
        "# Plot confusion matrix\n",
        "cm = confusion_matrix(y_test, predictions, labels=[0, 1])\n",
        "disp = ConfusionMatrixDisplay(confusion_matrix=cm, display_labels=[0, 1])\n",
        "disp.plot()\n",
        "plt.show()\n"
      ],
      "metadata": {
        "colab": {
          "base_uri": "https://localhost:8080/",
          "height": 969
        },
        "id": "tcRiifBoARDz",
        "outputId": "ef29493a-336e-4a54-8529-cab667a21195"
      },
      "execution_count": null,
      "outputs": [
        {
          "output_type": "stream",
          "name": "stderr",
          "text": [
            "Exception ignored on calling ctypes callback function: <function ThreadpoolController._find_libraries_with_dl_iterate_phdr.<locals>.match_library_callback at 0x7922d1104900>\n",
            "Traceback (most recent call last):\n",
            "  File \"/usr/local/lib/python3.11/dist-packages/threadpoolctl.py\", line 1005, in match_library_callback\n",
            "    self._make_controller_from_path(filepath)\n",
            "  File \"/usr/local/lib/python3.11/dist-packages/threadpoolctl.py\", line 1187, in _make_controller_from_path\n",
            "    lib_controller = controller_class(\n",
            "                     ^^^^^^^^^^^^^^^^^\n",
            "  File \"/usr/local/lib/python3.11/dist-packages/threadpoolctl.py\", line 114, in __init__\n",
            "    self.dynlib = ctypes.CDLL(filepath, mode=_RTLD_NOLOAD)\n",
            "                  ^^^^^^^^^^^^^^^^^^^^^^^^^^^^^^^^^^^^^^^^\n",
            "  File \"/usr/lib/python3.11/ctypes/__init__.py\", line 376, in __init__\n",
            "    self._handle = _dlopen(self._name, mode)\n",
            "                   ^^^^^^^^^^^^^^^^^^^^^^^^^\n",
            "OSError: /usr/local/lib/python3.11/dist-packages/xgboost.libs/libgomp-24e2ab19.so.1.0.0: cannot open shared object file: No such file or directory\n",
            "/usr/local/lib/python3.11/dist-packages/sklearn/utils/validation.py:2732: UserWarning: X has feature names, but SelectFromModel was fitted without feature names\n",
            "  warnings.warn(\n",
            "/usr/local/lib/python3.11/dist-packages/sklearn/utils/validation.py:2739: UserWarning: X does not have valid feature names, but SelectFromModel was fitted with feature names\n",
            "  warnings.warn(\n"
          ]
        },
        {
          "output_type": "stream",
          "name": "stdout",
          "text": [
            "              precision    recall  f1-score   support\n",
            "\n",
            "           0       0.99      0.92      0.95     22875\n",
            "           1       0.51      0.88      0.65      2125\n",
            "\n",
            "    accuracy                           0.92     25000\n",
            "   macro avg       0.75      0.90      0.80     25000\n",
            "weighted avg       0.95      0.92      0.93     25000\n",
            "\n",
            "Recall Score: 88.24%\n"
          ]
        },
        {
          "output_type": "display_data",
          "data": {
            "text/plain": [
              "<Figure size 640x480 with 2 Axes>"
            ],
            "image/png": "[encoded data removed]"
          },
          "metadata": {}
        }
      ]
    },
    {
      "cell_type": "code",
      "source": [
        "import pandas as pd\n",
        "import numpy as np\n",
        "import matplotlib.pyplot as plt\n",
        "import seaborn as sns\n",
        "from sklearn.pipeline import Pipeline\n",
        "from sklearn.compose import ColumnTransformer\n",
        "from sklearn.impute import SimpleImputer\n",
        "from sklearn.preprocessing import StandardScaler, OneHotEncoder\n",
        "from sklearn.model_selection import train_test_split\n",
        "from imblearn.over_sampling import SMOTE\n",
        "from xgboost import XGBClassifier\n",
        "from sklearn.metrics import classification_report, recall_score, confusion_matrix, ConfusionMatrixDisplay\n",
        "from joblib import dump, load\n",
        "from sklearn.ensemble import RandomForestClassifier\n",
        "from sklearn.feature_selection import SelectFromModel\n",
        "\n",
        "# Load dataset\n",
        "df = pd.read_csv(\"/diabetes_prediction_dataset.csv\")\n",
        "\n",
        "# Define categorical and numerical columns\n",
        "cat_col = ['gender', 'smoking_history']\n",
        "num_col = ['age', 'bmi', 'HbA1c_level', 'blood_glucose_level']\n",
        "\n",
        "# Define pipelines for numerical and categorical transformations\n",
        "numeric_transformer = Pipeline([\n",
        "    (\"imputer\", SimpleImputer(strategy=\"median\")),\n",
        "    (\"scaler\", StandardScaler())\n",
        "])\n",
        "\n",
        "categorical_transformer = Pipeline([\n",
        "    ('imputer', SimpleImputer(strategy='most_frequent')),\n",
        "    ('encoder', OneHotEncoder(handle_unknown='ignore'))\n",
        "])\n",
        "\n",
        "# Combine transformations using ColumnTransformer\n",
        "preprocessor = ColumnTransformer(\n",
        "    transformers=[\n",
        "        ('num', numeric_transformer, num_col),\n",
        "        ('cat', categorical_transformer, cat_col)\n",
        "    ], remainder='passthrough'\n",
        ")\n",
        "\n",
        "# Split dataset into train and test\n",
        "X = df.drop(columns=['diabetes'])\n",
        "y = df['diabetes']\n",
        "X_train, X_test, y_train, y_test = train_test_split(X, y, random_state=42, stratify=y)\n",
        "\n",
        "# Apply transformations\n",
        "X_train_transformed = preprocessor.fit_transform(X_train)\n",
        "X_test_transformed = preprocessor.transform(X_test)\n",
        "\n",
        "# Apply SMOTE\n",
        "smote = SMOTE(random_state=42)\n",
        "X_train_res, y_train_res = smote.fit_resample(X_train_transformed, y_train)\n",
        "\n",
        "# Convert back to DataFrame after SMOTE\n",
        "X_train_res = pd.DataFrame(X_train_res, columns=preprocessor.get_feature_names_out())\n",
        "\n",
        "# Compute class imbalance ratio\n",
        "class_counts = df['diabetes'].value_counts()\n",
        "majority_class = class_counts[0]\n",
        "minority_class = class_counts[1]\n",
        "ratio = majority_class / minority_class\n",
        "\n",
        "# Feature Selection using RandomForestClassifier\n",
        "feature_selector = RandomForestClassifier(random_state=42)\n",
        "feature_selector.fit(X_train_res, y_train_res)\n",
        "selected_features = SelectFromModel(feature_selector, threshold='median', prefit=True)\n",
        "X_train_selected = selected_features.transform(X_train_res)\n",
        "X_test_selected = selected_features.transform(X_test_transformed)\n",
        "\n",
        "# Define final model pipeline with XGBoost\n",
        "clf = Pipeline([\n",
        "    ('preprocessor', preprocessor),\n",
        "    ('feature_selection', selected_features),\n",
        "    ('classifier', XGBClassifier(\n",
        "        scale_pos_weight=ratio,\n",
        "        eval_metric='logloss',\n",
        "        use_label_encoder=False,\n",
        "        random_state=42\n",
        "    ))\n",
        "])\n",
        "\n",
        "# Train model\n",
        "clf.fit(X_train, y_train)\n",
        "\n",
        "# Save the trained model\n",
        "dump(clf, \"Pipeline_clf.joblib\")\n",
        "\n",
        "# Load the trained model\n",
        "pretrained_model = load(\"Pipeline_clf.joblib\")\n",
        "\n",
        "# Make predictions\n",
        "predictions = pretrained_model.predict(X_test)\n",
        "\n",
        "# Evaluate performance\n",
        "print(classification_report(y_test, predictions))\n",
        "print(f\"Recall Score: {round(recall_score(y_test, predictions) * 100, 2)}%\")\n",
        "\n",
        "# Plot confusion matrix\n",
        "cm = confusion_matrix(y_test, predictions, labels=clf.classes_)\n",
        "disp = ConfusionMatrixDisplay(confusion_matrix=cm, display_labels=clf.classes_)\n",
        "disp.plot()\n",
        "plt.show()\n"
      ],
      "metadata": {
        "colab": {
          "base_uri": "https://localhost:8080/",
          "height": 826
        },
        "id": "mqkvXAZMZI9N",
        "outputId": "86b2ec72-4dea-41b8-debe-7a9111f63568"
      },
      "execution_count": null,
      "outputs": [
        {
          "output_type": "stream",
          "name": "stderr",
          "text": [
            "/usr/local/lib/python3.11/dist-packages/sklearn/utils/validation.py:2732: UserWarning: X has feature names, but SelectFromModel was fitted without feature names\n",
            "  warnings.warn(\n",
            "/usr/local/lib/python3.11/dist-packages/sklearn/utils/validation.py:2739: UserWarning: X does not have valid feature names, but SelectFromModel was fitted with feature names\n",
            "  warnings.warn(\n",
            "/usr/local/lib/python3.11/dist-packages/xgboost/core.py:158: UserWarning: [16:35:28] WARNING: /workspace/src/learner.cc:740: \n",
            "Parameters: { \"use_label_encoder\" } are not used.\n",
            "\n",
            "  warnings.warn(smsg, UserWarning)\n",
            "/usr/local/lib/python3.11/dist-packages/sklearn/utils/validation.py:2739: UserWarning: X does not have valid feature names, but SelectFromModel was fitted with feature names\n",
            "  warnings.warn(\n"
          ]
        },
        {
          "output_type": "stream",
          "name": "stdout",
          "text": [
            "              precision    recall  f1-score   support\n",
            "\n",
            "           0       0.99      0.92      0.95     22875\n",
            "           1       0.51      0.88      0.65      2125\n",
            "\n",
            "    accuracy                           0.92     25000\n",
            "   macro avg       0.75      0.90      0.80     25000\n",
            "weighted avg       0.95      0.92      0.93     25000\n",
            "\n",
            "Recall Score: 88.24%\n"
          ]
        },
        {
          "output_type": "display_data",
          "data": {
            "text/plain": [
              "<Figure size 640x480 with 2 Axes>"
            ],
            "image/png": "[encoded data removed]"
          },
          "metadata": {}
        }
      ]
    },
    {
      "cell_type": "code",
      "source": [
        "import xgboost as xgb\n",
        "print(xgb.__version__)\n"
      ],
      "metadata": {
        "colab": {
          "base_uri": "https://localhost:8080/"
        },
        "id": "qMBqwaMK--ig",
        "outputId": "7a7c6c77-84de-4050-fc17-51006b1034ff"
      },
      "execution_count": null,
      "outputs": [
        {
          "output_type": "stream",
          "name": "stdout",
          "text": [
            "2.1.4\n"
          ]
        }
      ]
    },
    {
      "cell_type": "code",
      "source": [
        "!pip install --upgrade xgboost\n"
      ],
      "metadata": {
        "colab": {
          "base_uri": "https://localhost:8080/"
        },
        "id": "iGn5Y_Ka_RZn",
        "outputId": "bb10c0b9-1368-494b-c8b0-bd2e43c1137c"
      },
      "execution_count": null,
      "outputs": [
        {
          "output_type": "stream",
          "name": "stdout",
          "text": [
            "Requirement already satisfied: xgboost in /usr/local/lib/python3.11/dist-packages (2.1.4)\n",
            "Collecting xgboost\n",
            "  Downloading xgboost-3.0.0-py3-none-manylinux_2_28_x86_64.whl.metadata (2.1 kB)\n",
            "Requirement already satisfied: numpy in /usr/local/lib/python3.11/dist-packages (from xgboost) (2.0.2)\n",
            "Requirement already satisfied: nvidia-nccl-cu12 in /usr/local/lib/python3.11/dist-packages (from xgboost) (2.21.5)\n",
            "Requirement already satisfied: scipy in /usr/local/lib/python3.11/dist-packages (from xgboost) (1.14.1)\n",
            "Downloading xgboost-3.0.0-py3-none-manylinux_2_28_x86_64.whl (253.9 MB)\n",
            "\u001b[2K   \u001b[90m━━━━━━━━━━━━━━━━━━━━━━━━━━━━━━━━━━━━━━━━\u001b[0m \u001b[32m253.9/253.9 MB\u001b[0m \u001b[31m4.6 MB/s\u001b[0m eta \u001b[36m0:00:00\u001b[0m\n",
            "\u001b[?25hInstalling collected packages: xgboost\n",
            "  Attempting uninstall: xgboost\n",
            "    Found existing installation: xgboost 2.1.4\n",
            "    Uninstalling xgboost-2.1.4:\n",
            "      Successfully uninstalled xgboost-2.1.4\n",
            "Successfully installed xgboost-3.0.0\n"
          ]
        }
      ]
    },
    {
      "cell_type": "code",
      "source": [
        "import xgboost as xgb\n",
        "print(xgb.__version__)\n"
      ],
      "metadata": {
        "colab": {
          "base_uri": "https://localhost:8080/"
        },
        "id": "hr2rx_eI_c3y",
        "outputId": "64999b36-73cf-4b74-cf0d-45ab8372860a"
      },
      "execution_count": null,
      "outputs": [
        {
          "output_type": "stream",
          "name": "stdout",
          "text": [
            "2.1.4\n"
          ]
        }
      ]
    },
    {
      "cell_type": "code",
      "source": [
        "import pandas as pd\n",
        "import numpy as np\n",
        "import matplotlib.pyplot as plt\n",
        "import seaborn as sns\n",
        "from sklearn.pipeline import Pipeline\n",
        "from sklearn.compose import ColumnTransformer\n",
        "from sklearn.impute import SimpleImputer\n",
        "from sklearn.preprocessing import StandardScaler, OneHotEncoder\n",
        "from sklearn.model_selection import train_test_split\n",
        "from imblearn.over_sampling import SMOTE\n",
        "from xgboost import XGBClassifier\n",
        "from sklearn.metrics import classification_report, recall_score, confusion_matrix, ConfusionMatrixDisplay\n",
        "from joblib import dump, load\n",
        "\n",
        "# Load dataset\n",
        "df = pd.read_csv(\"/diabetes_prediction_dataset.csv\")\n",
        "\n",
        "# Define categorical and numerical columns\n",
        "cat_col = ['gender', 'smoking_history']\n",
        "num_col = ['age', 'bmi', 'HbA1c_level', 'blood_glucose_level']\n",
        "\n",
        "# Define pipelines for numerical and categorical transformations\n",
        "numeric_transformer = Pipeline([\n",
        "    (\"imputer\", SimpleImputer(strategy=\"median\")),\n",
        "    (\"scaler\", StandardScaler())\n",
        "])\n",
        "\n",
        "categorical_transformer = Pipeline([\n",
        "    ('imputer', SimpleImputer(strategy='most_frequent')),\n",
        "    ('encoder', OneHotEncoder(handle_unknown='ignore'))\n",
        "])\n",
        "\n",
        "# Combine transformations using ColumnTransformer\n",
        "preprocessor = ColumnTransformer([\n",
        "    ('num', numeric_transformer, num_col),\n",
        "    ('cat', categorical_transformer, cat_col)\n",
        "], remainder='passthrough')\n",
        "\n",
        "# Split dataset into train and test\n",
        "X = df.drop(columns=['diabetes'])\n",
        "y = df['diabetes']\n",
        "X_train, X_test, y_train, y_test = train_test_split(X, y, random_state=42, stratify=y)\n",
        "\n",
        "# Apply transformations\n",
        "X_train_transformed = preprocessor.fit_transform(X_train)\n",
        "X_test_transformed = preprocessor.transform(X_test)\n",
        "\n",
        "# Apply SMOTE\n",
        "smote = SMOTE(random_state=42)\n",
        "X_train_res, y_train_res = smote.fit_resample(X_train_transformed, y_train)\n",
        "\n",
        "# Compute class imbalance ratio\n",
        "class_counts = df['diabetes'].value_counts()\n",
        "majority_class = class_counts[0]\n",
        "minority_class = class_counts[1]\n",
        "ratio = majority_class / minority_class\n",
        "\n",
        "# Define the final model pipeline using XGBoost\n",
        "clf = Pipeline([\n",
        "    ('preprocessor', preprocessor),\n",
        "    ('classifier', XGBClassifier(scale_pos_weight=ratio,\n",
        "                                 eval_metric='logloss',\n",
        "                                 use_label_encoder=False,\n",
        "                                 random_state=42))\n",
        "])\n",
        "\n",
        "# Train model\n",
        "clf.fit(X_train, y_train)\n",
        "\n",
        "# Save the trained model\n",
        "dump(clf, \"XGBoost_Diabetes_Model.joblib\")\n",
        "\n",
        "# Load the trained model\n",
        "pretrained_model = load(\"XGBoost_Diabetes_Model.joblib\")\n",
        "\n",
        "# Make predictions\n",
        "predictions = pretrained_model.predict(X_test)\n",
        "\n",
        "# Evaluate performance\n",
        "print(classification_report(y_test, predictions))\n",
        "print(f\"Recall Score: {round(recall_score(y_test, predictions) * 100, 2)}%\")\n",
        "\n",
        "# Plot confusion matrix\n",
        "cm = confusion_matrix(y_test, predictions, labels=clf.classes_)\n",
        "disp = ConfusionMatrixDisplay(confusion_matrix=cm, display_labels=clf.classes_)\n",
        "disp.plot()\n",
        "plt.show()\n",
        "\n",
        "import pandas as pd\n",
        "import numpy as np\n",
        "from joblib import load\n",
        "\n",
        "# Load the trained model\n",
        "pretrained_model = load(\"XGBoost_Diabetes_Model.joblib\")\n",
        "\n",
        "# Define a sample inference input\n",
        "sample_data = pd.DataFrame({\n",
        "    'gender': ['Male'],\n",
        "    'smoking_history': ['current'],\n",
        "    'age': [60],\n",
        "    'bmi': [33.0],\n",
        "    'HbA1c_level': [7.8],\n",
        "    'blood_glucose_level': [210],\n",
        "    'hypertension': [1],\n",
        "    'heart_disease': [1]\n",
        "})\n",
        "\n",
        "# Ensure columns are in the correct order\n",
        "sample_data = sample_data[pretrained_model.named_steps['preprocessor'].feature_names_in_]\n",
        "\n",
        "# Make predictions using the trained model\n",
        "prediction = pretrained_model.predict(sample_data)\n",
        "probability = pretrained_model.predict_proba(sample_data)[:, 1][0]  # Get probability of diabetes\n",
        "\n",
        "# Adjusted risk scoring function\n",
        "scaled_risk_score = (probability * 0.8 + 0.1) * 100  # Scale away from extreme 0% and 100%\n",
        "risk_score_percentage = round(scaled_risk_score, 2)\n",
        "\n",
        "# Define risk levels\n",
        "if risk_score_percentage < 30:\n",
        "    risk_level = \"Low Risk\"\n",
        "elif 30 <= risk_score_percentage < 70:\n",
        "    risk_level = \"Moderate Risk\"\n",
        "else:\n",
        "    risk_level = \"High Risk\"\n",
        "\n",
        "# Define health recommendations based on input factors\n",
        "health_advice = []\n",
        "\n",
        "# Smoking advice\n",
        "if sample_data['smoking_history'][0] in ['current', 'former']:\n",
        "    health_advice.append(\"Quit smoking to lower your risk of diabetes and cardiovascular diseases.\")\n",
        "\n",
        "# BMI category\n",
        "if sample_data['bmi'][0] < 18.5:\n",
        "    bmi_risk = \"Underweight (Moderate Risk)\"\n",
        "elif 18.5 <= sample_data['bmi'][0] < 24.9:\n",
        "    bmi_risk = \"Normal (Low Risk)\"\n",
        "elif 25 <= sample_data['bmi'][0] < 29.9:\n",
        "    bmi_risk = \"Overweight (Moderate Risk)\"\n",
        "else:\n",
        "    bmi_risk = \"Obese (High Risk)\"\n",
        "    health_advice.append(\"Consider a healthy diet and exercise to reduce obesity-related risks.\")\n",
        "\n",
        "# HbA1c level category\n",
        "if sample_data['HbA1c_level'][0] < 5.7:\n",
        "    hba1c_risk = \"Normal (Low Risk)\"\n",
        "elif 5.7 <= sample_data['HbA1c_level'][0] < 6.5:\n",
        "    hba1c_risk = \"Prediabetes (Moderate Risk)\"\n",
        "    health_advice.append(\"Monitor your diet and exercise to prevent diabetes.\")\n",
        "else:\n",
        "    hba1c_risk = \"Diabetic (High Risk)\"\n",
        "    health_advice.append(\"Consult a doctor to manage high blood sugar levels.\")\n",
        "\n",
        "# Blood glucose level category\n",
        "if sample_data['blood_glucose_level'][0] < 140:\n",
        "    glucose_risk = \"Normal (Low Risk)\"\n",
        "elif 140 <= sample_data['blood_glucose_level'][0] < 199:\n",
        "    glucose_risk = \"Prediabetes (Moderate Risk)\"\n",
        "    health_advice.append(\"Control sugar intake and maintain an active lifestyle.\")\n",
        "else:\n",
        "    glucose_risk = \"High (High Risk)\"\n",
        "    health_advice.append(\"High blood glucose detected. Seek medical guidance.\")\n",
        "\n",
        "# Hypertension risk\n",
        "hypertension_risk = \"Yes (High Risk)\" if sample_data['hypertension'][0] == 1 else \"No (Low Risk)\"\n",
        "if sample_data['hypertension'][0] == 1:\n",
        "    health_advice.append(\"Manage blood pressure with a healthy lifestyle and checkups.\")\n",
        "\n",
        "# Heart disease risk\n",
        "heart_disease_risk = \"Yes (High Risk)\" if sample_data['heart_disease'][0] == 1 else \"No (Low Risk)\"\n",
        "if sample_data['heart_disease'][0] == 1:\n",
        "    health_advice.append(\"Heart disease detected. Follow a heart-healthy lifestyle.\")\n",
        "\n",
        "# Display results\n",
        "print(\"\\n🔹 **Diabetes Prediction:**\", \"Positive\" if prediction[0] == 1 else \"Negative\")\n",
        "print(f\"🔹 **Risk Prediction Score:** {risk_score_percentage}% ({risk_level})\")\n",
        "\n",
        "print(\"\\n📊 **Health Risk Levels:**\")\n",
        "print(f\"   - BMI: {bmi_risk}\")\n",
        "print(f\"   - HbA1c Level: {hba1c_risk}\")\n",
        "print(f\"   - Blood Glucose Level: {glucose_risk}\")\n",
        "print(f\"   - Hypertension: {hypertension_risk}\")\n",
        "print(f\"   - Heart Disease: {heart_disease_risk}\")\n",
        "\n",
        "print(\"\\n🩺 **Health Recommendations:**\")\n",
        "for advice in health_advice:\n",
        "    print(f\"   - {advice}\")\n",
        "\n"
      ],
      "metadata": {
        "colab": {
          "base_uri": "https://localhost:8080/",
          "height": 717
        },
        "id": "5zUY_rjOaIAD",
        "outputId": "5dc9c022-a6c7-44d6-aa9e-30b88aece93b"
      },
      "execution_count": null,
      "outputs": [
        {
          "output_type": "stream",
          "name": "stderr",
          "text": [
            "/usr/local/lib/python3.11/dist-packages/xgboost/core.py:158: UserWarning: [18:31:41] WARNING: /workspace/src/learner.cc:740: \n",
            "Parameters: { \"use_label_encoder\" } are not used.\n",
            "\n",
            "  warnings.warn(smsg, UserWarning)\n"
          ]
        },
        {
          "output_type": "stream",
          "name": "stdout",
          "text": [
            "              precision    recall  f1-score   support\n",
            "\n",
            "           0       0.99      0.93      0.96     22875\n",
            "           1       0.53      0.88      0.67      2125\n",
            "\n",
            "    accuracy                           0.92     25000\n",
            "   macro avg       0.76      0.91      0.81     25000\n",
            "weighted avg       0.95      0.92      0.93     25000\n",
            "\n",
            "Recall Score: 88.19%\n"
          ]
        },
        {
          "output_type": "display_data",
          "data": {
            "text/plain": [
              "<Figure size 640x480 with 2 Axes>"
            ],
            "image/png": "[encoded data removed]"
          },
          "metadata": {}
        },
        {
          "output_type": "stream",
          "name": "stdout",
          "text": [
            "Diabetes Prediction: Positive\n"
          ]
        }
      ]
    },
    {
      "cell_type": "markdown",
      "source": [
        "## ***INFERENCE***"
      ],
      "metadata": {
        "id": "teuvRn0GjPQO"
      }
    },
    {
      "cell_type": "code",
      "source": [
        "import pandas as pd\n",
        "import numpy as np\n",
        "from joblib import load\n",
        "\n",
        "# Load the trained model\n",
        "pretrained_model = load(\"XGBoost_Diabetes_Model.joblib\")\n",
        "\n",
        "# Define a sample inference input with all required columns (high-risk case)\n",
        "sample_data = pd.DataFrame({\n",
        "    'gender': ['Male'],\n",
        "    'smoking_history': ['current'],  # Smoker\n",
        "    'age': [60],  # Older age\n",
        "    'bmi': [33.0],  # Obese BMI\n",
        "    'HbA1c_level': [7.8],  # High HbA1c (diabetic)\n",
        "    'blood_glucose_level': [210],  # High glucose level\n",
        "    'hypertension': [1],  # Has hypertension\n",
        "    'heart_disease': [1]  # Has heart disease\n",
        "})\n",
        "\n",
        "# Ensure columns are in the same order as training data\n",
        "sample_data = sample_data[pretrained_model.named_steps['preprocessor'].feature_names_in_]\n",
        "\n",
        "# Make prediction using the trained model\n",
        "prediction = pretrained_model.predict(sample_data)\n",
        "\n",
        "# Print the prediction result\n",
        "print(\"Diabetes Prediction:\", \"Positive\" if prediction[0] == 1 else \"Negative\")\n"
      ],
      "metadata": {
        "colab": {
          "base_uri": "https://localhost:8080/"
        },
        "id": "iTqVDvOga0k5",
        "outputId": "f4ec2782-a6ca-4021-9fe6-e516d2e1b16c"
      },
      "execution_count": null,
      "outputs": [
        {
          "output_type": "stream",
          "name": "stdout",
          "text": [
            "Diabetes Prediction: Positive\n"
          ]
        }
      ]
    },
    {
      "cell_type": "code",
      "source": [
        "import pandas as pd\n",
        "import numpy as np\n",
        "from joblib import load\n",
        "\n",
        "# Load the trained model\n",
        "pretrained_model = load(\"XGBoost_Diabetes_Model.joblib\")\n",
        "\n",
        "# Define a sample inference input\n",
        "sample_data = pd.DataFrame({\n",
        "    'gender': ['Male'],\n",
        "    'smoking_history': ['current'],\n",
        "    'age': [60],\n",
        "    'bmi': [33.0],\n",
        "    'HbA1c_level': [7.8],\n",
        "    'blood_glucose_level': [210],\n",
        "    'hypertension': [1],\n",
        "    'heart_disease': [1]\n",
        "})\n",
        "\n",
        "# Ensure columns are in the correct order\n",
        "sample_data = sample_data[pretrained_model.named_steps['preprocessor'].feature_names_in_]\n",
        "\n",
        "# Make predictions using the trained model\n",
        "prediction = pretrained_model.predict(sample_data)\n",
        "probability = pretrained_model.predict_proba(sample_data)[:, 1][0]  # Get probability of diabetes\n",
        "\n",
        "# Adjusted risk scoring function\n",
        "scaled_risk_score = (probability * 0.8 + 0.1) * 100  # Scale away from extreme 0% and 100%\n",
        "risk_score_percentage = round(scaled_risk_score, 2)\n",
        "\n",
        "# Define risk levels\n",
        "if risk_score_percentage < 30:\n",
        "    risk_level = \"Low Risk\"\n",
        "elif 30 <= risk_score_percentage < 70:\n",
        "    risk_level = \"Moderate Risk\"\n",
        "else:\n",
        "    risk_level = \"High Risk\"\n",
        "\n",
        "# Define health recommendations based on input factors\n",
        "health_advice = []\n",
        "\n",
        "# Smoking advice\n",
        "if sample_data['smoking_history'][0] in ['current', 'former']:\n",
        "    health_advice.append(\"Quit smoking to lower your risk of diabetes and cardiovascular diseases.\")\n",
        "\n",
        "# BMI category\n",
        "if sample_data['bmi'][0] < 18.5:\n",
        "    bmi_risk = \"Underweight (Moderate Risk)\"\n",
        "elif 18.5 <= sample_data['bmi'][0] < 24.9:\n",
        "    bmi_risk = \"Normal (Low Risk)\"\n",
        "elif 25 <= sample_data['bmi'][0] < 29.9:\n",
        "    bmi_risk = \"Overweight (Moderate Risk)\"\n",
        "else:\n",
        "    bmi_risk = \"Obese (High Risk)\"\n",
        "    health_advice.append(\"Consider a healthy diet and exercise to reduce obesity-related risks.\")\n",
        "\n",
        "# HbA1c level category\n",
        "if sample_data['HbA1c_level'][0] < 5.7:\n",
        "    hba1c_risk = \"Normal (Low Risk)\"\n",
        "elif 5.7 <= sample_data['HbA1c_level'][0] < 6.5:\n",
        "    hba1c_risk = \"Prediabetes (Moderate Risk)\"\n",
        "    health_advice.append(\"Monitor your diet and exercise to prevent diabetes.\")\n",
        "else:\n",
        "    hba1c_risk = \"Diabetic (High Risk)\"\n",
        "    health_advice.append(\"Consult a doctor to manage high blood sugar levels.\")\n",
        "\n",
        "# Blood glucose level category\n",
        "if sample_data['blood_glucose_level'][0] < 140:\n",
        "    glucose_risk = \"Normal (Low Risk)\"\n",
        "elif 140 <= sample_data['blood_glucose_level'][0] < 199:\n",
        "    glucose_risk = \"Prediabetes (Moderate Risk)\"\n",
        "    health_advice.append(\"Control sugar intake and maintain an active lifestyle.\")\n",
        "else:\n",
        "    glucose_risk = \"High (High Risk)\"\n",
        "    health_advice.append(\"High blood glucose detected. Seek medical guidance.\")\n",
        "\n",
        "# Hypertension risk\n",
        "hypertension_risk = \"Yes (High Risk)\" if sample_data['hypertension'][0] == 1 else \"No (Low Risk)\"\n",
        "if sample_data['hypertension'][0] == 1:\n",
        "    health_advice.append(\"Manage blood pressure with a healthy lifestyle and checkups.\")\n",
        "\n",
        "# Heart disease risk\n",
        "heart_disease_risk = \"Yes (High Risk)\" if sample_data['heart_disease'][0] == 1 else \"No (Low Risk)\"\n",
        "if sample_data['heart_disease'][0] == 1:\n",
        "    health_advice.append(\"Heart disease detected. Follow a heart-healthy lifestyle.\")\n",
        "\n",
        "# Display results\n",
        "print(\"\\n🔹 **Diabetes Prediction:**\", \"Positive\" if prediction[0] == 1 else \"Negative\")\n",
        "print(f\"🔹 **Risk Prediction Score:** {risk_score_percentage}% ({risk_level})\")\n",
        "\n",
        "print(\"\\n📊 **Health Risk Levels:**\")\n",
        "print(f\"   - BMI: {bmi_risk}\")\n",
        "print(f\"   - HbA1c Level: {hba1c_risk}\")\n",
        "print(f\"   - Blood Glucose Level: {glucose_risk}\")\n",
        "print(f\"   - Hypertension: {hypertension_risk}\")\n",
        "print(f\"   - Heart Disease: {heart_disease_risk}\")\n",
        "\n",
        "print(\"\\n🩺 **Health Recommendations:**\")\n",
        "for advice in health_advice:\n",
        "    print(f\"   - {advice}\")\n"
      ],
      "metadata": {
        "colab": {
          "base_uri": "https://localhost:8080/"
        },
        "id": "9qME9bOzbgPp",
        "outputId": "85c49d87-03d9-4134-bd82-e00b7852cb9b"
      },
      "execution_count": null,
      "outputs": [
        {
          "output_type": "stream",
          "name": "stdout",
          "text": [
            "\n",
            "🔹 **Diabetes Prediction:** Positive\n",
            "🔹 **Risk Prediction Score:** 90.0% (High Risk)\n",
            "\n",
            "📊 **Health Risk Levels:**\n",
            "   - BMI: Obese (High Risk)\n",
            "   - HbA1c Level: Diabetic (High Risk)\n",
            "   - Blood Glucose Level: High (High Risk)\n",
            "   - Hypertension: Yes (High Risk)\n",
            "   - Heart Disease: Yes (High Risk)\n",
            "\n",
            "🩺 **Health Recommendations:**\n",
            "   - Quit smoking to lower your risk of diabetes and cardiovascular diseases.\n",
            "   - Consider a healthy diet and exercise to reduce obesity-related risks.\n",
            "   - Consult a doctor to manage high blood sugar levels.\n",
            "   - High blood glucose detected. Seek medical guidance.\n",
            "   - Manage blood pressure with a healthy lifestyle and checkups.\n",
            "   - Heart disease detected. Follow a heart-healthy lifestyle.\n"
          ]
        }
      ]
    },
    {
      "cell_type": "code",
      "source": [
        "print(f\"X_train_res shape: {X_train_res.shape}\")\n",
        "print(f\"y_train_res shape: {y_train_res.shape}\")\n"
      ],
      "metadata": {
        "id": "fsVbg36PHevz",
        "outputId": "05bcc3b3-db1c-441d-80e7-9c6f83421950",
        "colab": {
          "base_uri": "https://localhost:8080/"
        }
      },
      "execution_count": null,
      "outputs": [
        {
          "output_type": "stream",
          "name": "stdout",
          "text": [
            "X_train_res shape: (137250, 15)\n",
            "y_train_res shape: (137250,)\n"
          ]
        }
      ]
    },
    {
      "cell_type": "code",
      "source": [],
      "metadata": {
        "id": "y8rUfF4xHP_t"
      },
      "execution_count": null,
      "outputs": []
    }
  ]
}